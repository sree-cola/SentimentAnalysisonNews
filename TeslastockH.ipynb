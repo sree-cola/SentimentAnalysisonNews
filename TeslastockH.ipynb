{
  "nbformat": 4,
  "nbformat_minor": 0,
  "metadata": {
    "colab": {
      "provenance": []
    },
    "kernelspec": {
      "name": "python3",
      "display_name": "Python 3"
    },
    "language_info": {
      "name": "python"
    }
  },
  "cells": [
    {
      "cell_type": "code",
      "source": [
        "import warnings\n",
        "warnings.filterwarnings(\"ignore\", category=FutureWarning)\n",
        "from bs4 import BeautifulSoup\n",
        "import pandas as pd\n",
        "import os\n",
        "\n",
        "html_tables = {}\n",
        "\n",
        "# For every table in the datasets folder...\n",
        "for table_name in os.listdir('/content/input'):\n",
        "    #this is the path to the file. Don't touch!\n",
        "    table_path = f'/content/input/tsla_26nov.html'\n",
        "\n",
        "    # Open as a python file in read-only mode\n",
        "    table_file = open(table_path, 'r')\n",
        "\n",
        "    # Read the contents of the file into 'html'\n",
        "    html = BeautifulSoup(open(table_path, 'r'))\n",
        "\n",
        "    # Find 'news-table' in the Soup and load it into 'html_table'\n",
        "    html_table = html.find(id='news-table')\n",
        "\n",
        "    # Add the table to our dictionary\n",
        "    html_tables[table_name] = html_table\n",
        "\n",
        "print('ok!')"
      ],
      "metadata": {
        "colab": {
          "base_uri": "https://localhost:8080/"
        },
        "id": "oRkiApsA7O4W",
        "outputId": "36784f24-2e8a-41f8-e2f7-ddd761373e11"
      },
      "execution_count": null,
      "outputs": [
        {
          "output_type": "stream",
          "name": "stdout",
          "text": [
            "ok!\n"
          ]
        }
      ]
    },
    {
      "cell_type": "code",
      "source": [
        "tsla = html_tables['tsla_22sep.html']\n",
        "# Get all the table rows tagged in HTML with <tr> into 'tesla_tr'\n",
        "tsla_tr = tsla.findAll('tr')\n",
        "\n",
        "# For each row...\n",
        "\n",
        "for i, table_row in enumerate(tsla_tr):\n",
        "    # Read the text of the element 'a' into 'link_text'\n",
        "    link_text = table_row.a.get_text()\n",
        "    # Read the text of the element 'td' into 'data_text'\n",
        "    data_text = table_row.td.get_text()\n",
        "    # Print the count\n",
        "    print(f'{i}:')\n",
        "    # Print the contents of 'link_text' and 'data_text'\n",
        "    print(link_text)\n",
        "    print(data_text)\n",
        "    # The following exits the loop after three rows to prevent spamming the notebook, do not touch\n",
        "    if i == 3:\n",
        "        break"
      ],
      "metadata": {
        "colab": {
          "base_uri": "https://localhost:8080/"
        },
        "id": "AdTQputw9Bzi",
        "outputId": "875bc0e9-2f1d-430d-d264-202ba6b3d005"
      },
      "execution_count": null,
      "outputs": [
        {
          "output_type": "stream",
          "name": "stdout",
          "text": [
            "0:\n",
            "Tesla was weeks from dying earlier this year, Elon Musk says\n",
            "Nov-26-18 01:25PM  \n",
            "1:\n",
            "Elon Musk Says Tesla Was 'Close to Death' During Model 3 Ramp-Up\n",
            "01:08PM  \n",
            "2:\n",
            "Tesla Almost Died Earlier This Year, Says Elon Musk\n",
            "01:07PM  \n",
            "3:\n",
            "Elon Musk Said Tesla Almost Died  and the Stock Market Shrugged\n",
            "01:00PM  \n"
          ]
        }
      ]
    },
    {
      "cell_type": "code",
      "source": [
        "parsed_news = []\n",
        "# Iterate through the news\n",
        "for file_name, news_table in html_tables.items():\n",
        "    # Iterate through all tr tags in 'news_table'\n",
        "    for x in news_table.findAll('tr'):\n",
        "\n",
        "        # Read the text from the tr tag into text\n",
        "        text = x.get_text()\n",
        "\n",
        "        # Split the text in the td tag into a list\n",
        "        date_scrape = x.td.text.split()\n",
        "        headline = x.a.text\n",
        "\n",
        "        # If the length of 'date_scrape' is 1, load 'time' as the only element\n",
        "        # If not, load 'date' as the 1st element and 'time' as the second\n",
        "\n",
        "        if len(date_scrape) == 1:\n",
        "            time = date_scrape[0]\n",
        "\n",
        "        else:\n",
        "            date = date_scrape[0]\n",
        "            time = date_scrape[1]\n",
        "\n",
        "        # Extract the ticker from the file name, get the string up to the 1st '_'\n",
        "        ticker = file_name.split('_')[0]\n",
        "\n",
        "        # Append ticker, date, time and headline as a list to the 'parsed_news' list\n",
        "        parsed_news.append([ticker, date, time, headline])\n",
        "\n",
        "print(parsed_news[:10])"
      ],
      "metadata": {
        "colab": {
          "base_uri": "https://localhost:8080/"
        },
        "id": "ibaYZYuJ9qwy",
        "outputId": "3c123e5c-e977-4795-bb67-7c0dac1ca1d8"
      },
      "execution_count": null,
      "outputs": [
        {
          "output_type": "stream",
          "name": "stdout",
          "text": [
            "[['tsla', 'Nov-26-18', '01:25PM', 'Tesla was weeks from dying earlier this year, Elon Musk says'], ['tsla', 'Nov-26-18', '01:08PM', \"Elon Musk Says Tesla Was 'Close to Death' During Model 3 Ramp-Up\"], ['tsla', 'Nov-26-18', '01:07PM', 'Tesla Almost Died Earlier This Year, Says Elon Musk'], ['tsla', 'Nov-26-18', '01:00PM', 'Elon Musk Said Tesla Almost Died  and the Stock Market Shrugged'], ['tsla', 'Nov-26-18', '12:36PM', 'Elon Musk Admits Tesla Was Near Death This Year'], ['tsla', 'Nov-26-18', '11:54AM', 'Whatever Doesnt Kill Tesla Makes It Stranger'], ['tsla', 'Nov-26-18', '10:21AM', 'Elon Musk: Tesla was weeks away from failure'], ['tsla', 'Nov-26-18', '09:30AM', 'Company News For Nov 26, 2018'], ['tsla', 'Nov-26-18', '08:30AM', 'Musk Admits Tesla Was Close To Collapsing Earlier This Year Amid Model 3 Ramp'], ['tsla', 'Nov-26-18', '08:20AM', 'What Tesla did for luxury cars, Rivian wants to do for pickups']]\n"
          ]
        }
      ]
    },
    {
      "cell_type": "code",
      "source": [
        "import nltk\n",
        "nltk.download('vader_lexicon')"
      ],
      "metadata": {
        "colab": {
          "base_uri": "https://localhost:8080/"
        },
        "id": "dvcZjZNG9_KR",
        "outputId": "109bca91-80e3-477b-91bc-1542c0d607e8"
      },
      "execution_count": null,
      "outputs": [
        {
          "output_type": "stream",
          "name": "stderr",
          "text": [
            "[nltk_data] Downloading package vader_lexicon to /root/nltk_data...\n"
          ]
        },
        {
          "output_type": "execute_result",
          "data": {
            "text/plain": [
              "True"
            ]
          },
          "metadata": {},
          "execution_count": 12
        }
      ]
    },
    {
      "cell_type": "code",
      "source": [
        "# NLTK VADER for sentiment analysis\n",
        "from nltk.sentiment.vader import SentimentIntensityAnalyzer\n",
        "\n",
        "# New words and values\n",
        "new_words = {\n",
        "    'crushes': 10,\n",
        "    'beats': 5,\n",
        "    'misses': -5,\n",
        "    'trouble': -10,\n",
        "    'falls': -100,\n",
        "}\n",
        "# Instantiate the sentiment intensity analyzer with the existing lexicon\n",
        "vader = SentimentIntensityAnalyzer()\n",
        "# Update the lexicon\n",
        "vader.lexicon.update(new_words)\n",
        "\n",
        "print('ok!')"
      ],
      "metadata": {
        "colab": {
          "base_uri": "https://localhost:8080/"
        },
        "id": "TnTQbFUV9vv8",
        "outputId": "01072af8-a898-49e3-f133-ab4022b67744"
      },
      "execution_count": null,
      "outputs": [
        {
          "output_type": "stream",
          "name": "stdout",
          "text": [
            "ok!\n"
          ]
        }
      ]
    },
    {
      "cell_type": "code",
      "source": [
        "columns = ['ticker', 'date', 'time', 'headline']\n",
        "# Convert the list of lists into a DataFrame\n",
        "scored_news = pd.DataFrame(parsed_news, columns=columns)\n",
        "\n",
        "# Iterate through the headlines and get the polarity scores\n",
        "scores = scored_news['headline'].apply(vader.polarity_scores)\n",
        "\n",
        "# Convert the list of dicts into a DataFrame\n",
        "scores_df = pd.DataFrame.from_records(scores)\n",
        "\n",
        "# Join the DataFrames\n",
        "scored_news = scored_news.join(scores_df)\n",
        "\n",
        "# Convert the date column from string to datetime\n",
        "scored_news['date'] = pd.to_datetime(scored_news.date).dt.date\n",
        "print(scored_news.head())"
      ],
      "metadata": {
        "colab": {
          "base_uri": "https://localhost:8080/"
        },
        "id": "rr5VOGig9ypO",
        "outputId": "51a25b51-012a-41d0-d5ec-091d63208f37"
      },
      "execution_count": null,
      "outputs": [
        {
          "output_type": "stream",
          "name": "stdout",
          "text": [
            "  ticker        date     time  \\\n",
            "0   tsla  2018-11-26  01:25PM   \n",
            "1   tsla  2018-11-26  01:08PM   \n",
            "2   tsla  2018-11-26  01:07PM   \n",
            "3   tsla  2018-11-26  01:00PM   \n",
            "4   tsla  2018-11-26  12:36PM   \n",
            "\n",
            "                                            headline    neg    neu    pos  \\\n",
            "0  Tesla was weeks from dying earlier this year, ...  0.000  1.000  0.000   \n",
            "1  Elon Musk Says Tesla Was 'Close to Death' Duri...  0.281  0.719  0.000   \n",
            "2  Tesla Almost Died Earlier This Year, Says Elon...  0.292  0.708  0.000   \n",
            "3  Elon Musk Said Tesla Almost Died  and the Stoc...  0.249  0.751  0.000   \n",
            "4    Elon Musk Admits Tesla Was Near Death This Year  0.298  0.534  0.168   \n",
            "\n",
            "   compound  \n",
            "0    0.0000  \n",
            "1   -0.5994  \n",
            "2   -0.5118  \n",
            "3   -0.5118  \n",
            "4   -0.4019  \n"
          ]
        }
      ]
    },
    {
      "cell_type": "code",
      "source": [
        "import matplotlib.pyplot as plt\n",
        "import seaborn as sns\n",
        "\n",
        "%matplotlib inline\n",
        "\n",
        "# Group by date and ticker columns from scored_news and calculate the mean\n",
        "mean_c = scored_news.groupby(['date', 'ticker']).mean()\n",
        "\n",
        "# Unstack the column ticker\n",
        "mean_c = mean_c.unstack('ticker')\n",
        "\n",
        "# Get the cross-section of compound in the 'columns' axis\n",
        "mean_c = mean_c.xs('compound', axis='columns')\n",
        "# Plot a bar chart with pandas\n",
        "\n",
        "mean_c.plot(kind='bar', figsize=(10,5), width=1)"
      ],
      "metadata": {
        "colab": {
          "base_uri": "https://localhost:8080/",
          "height": 528
        },
        "id": "3Ooc6zBt-E9B",
        "outputId": "03614196-284c-4959-9525-a7b554f3b011"
      },
      "execution_count": null,
      "outputs": [
        {
          "output_type": "execute_result",
          "data": {
            "text/plain": [
              "<Axes: xlabel='date'>"
            ]
          },
          "metadata": {},
          "execution_count": 15
        },
        {
          "output_type": "display_data",
          "data": {
            "text/plain": [
              "<Figure size 1000x500 with 1 Axes>"
            ],
            "image/png": "[encoded data removed]"
          },
          "metadata": {}
        }
      ]
    },
    {
      "cell_type": "code",
      "source": [
        "num_news_before = scored_news['headline'].count()\n",
        "\n",
        "# Drop duplicates based on ticker and headline\n",
        "scored_news_clean = scored_news.drop_duplicates(subset=['ticker','headline'])\n",
        "\n",
        "# Count number of headlines after dropping duplicates\n",
        "num_news_after = scored_news_clean['headline'].count()\n",
        "\n",
        "# Print before and after numbers to get an idea of how we did\n",
        "print(f\"Before we had {num_news_before} headlines, now we have {num_news_after}\")"
      ],
      "metadata": {
        "colab": {
          "base_uri": "https://localhost:8080/"
        },
        "id": "YoN414U3-JBG",
        "outputId": "700677f3-33f2-41b0-b331-9c11fb80e3db"
      },
      "execution_count": null,
      "outputs": [
        {
          "output_type": "stream",
          "name": "stdout",
          "text": [
            "Before we had 500 headlines, now we have 190\n"
          ]
        }
      ]
    },
    {
      "cell_type": "code",
      "source": [
        "print(scored_news_clean)"
      ],
      "metadata": {
        "colab": {
          "base_uri": "https://localhost:8080/"
        },
        "id": "M3vNY5xX-1k5",
        "outputId": "cd88d58c-21cb-434a-eaac-8e29e2500439"
      },
      "execution_count": null,
      "outputs": [
        {
          "output_type": "stream",
          "name": "stdout",
          "text": [
            "    ticker        date     time  \\\n",
            "0     tsla  2018-11-26  01:25PM   \n",
            "1     tsla  2018-11-26  01:08PM   \n",
            "2     tsla  2018-11-26  01:07PM   \n",
            "3     tsla  2018-11-26  01:00PM   \n",
            "4     tsla  2018-11-26  12:36PM   \n",
            "..     ...         ...      ...   \n",
            "195     fb  2018-11-16  08:31AM   \n",
            "196     fb  2018-11-16  08:12AM   \n",
            "197     fb  2018-11-16  06:39AM   \n",
            "198     fb  2018-11-16  06:00AM   \n",
            "199     fb  2018-11-16  05:00AM   \n",
            "\n",
            "                                              headline    neg    neu    pos  \\\n",
            "0    Tesla was weeks from dying earlier this year, ...  0.000  1.000  0.000   \n",
            "1    Elon Musk Says Tesla Was 'Close to Death' Duri...  0.281  0.719  0.000   \n",
            "2    Tesla Almost Died Earlier This Year, Says Elon...  0.292  0.708  0.000   \n",
            "3    Elon Musk Said Tesla Almost Died  and the Stoc...  0.249  0.751  0.000   \n",
            "4      Elon Musk Admits Tesla Was Near Death This Year  0.298  0.534  0.168   \n",
            "..                                                 ...    ...    ...    ...   \n",
            "195  VW says could build up to 15 million electric ...  0.000  1.000  0.000   \n",
            "196  Elon Musk to Prowl Production Lines in Push fo...  0.000  1.000  0.000   \n",
            "197  Tesla cuts prices on solar power systems as it...  0.155  0.845  0.000   \n",
            "198  Tesla Stretch Pushes Customers to Open Wallets...  0.000  1.000  0.000   \n",
            "199  Meet the man who runs Teslas Gigafactory 2 in ...  0.000  1.000  0.000   \n",
            "\n",
            "     compound  \n",
            "0      0.0000  \n",
            "1     -0.5994  \n",
            "2     -0.5118  \n",
            "3     -0.5118  \n",
            "4     -0.4019  \n",
            "..        ...  \n",
            "195    0.0000  \n",
            "196    0.0000  \n",
            "197   -0.2960  \n",
            "198    0.0000  \n",
            "199    0.0000  \n",
            "\n",
            "[190 rows x 8 columns]\n"
          ]
        }
      ]
    },
    {
      "cell_type": "code",
      "source": [
        "# Set the index to ticker and date\n",
        "single_day = scored_news_clean.set_index(['ticker', 'date'])\n",
        "print(single_day.info())\n",
        "# Cross-section the fb row\n",
        "single_day = single_day.xs('fb')\n",
        "\n",
        "# Convert the datetime string to just the time\n",
        "single_day['time'] = pd.to_datetime(single_day['time']).dt.time\n",
        "\n",
        "# Set the index to time and\n",
        "single_day = single_day.set_index('time')\n",
        "\n",
        "# Sort it\n",
        "single_day = single_day.sort_index()\n"
      ],
      "metadata": {
        "colab": {
          "base_uri": "https://localhost:8080/"
        },
        "id": "bJE8EAXn-Taf",
        "outputId": "3119805e-687e-4b7e-80d1-4579934e05b6"
      },
      "execution_count": null,
      "outputs": [
        {
          "output_type": "stream",
          "name": "stdout",
          "text": [
            "<class 'pandas.core.frame.DataFrame'>\n",
            "MultiIndex: 190 entries, ('tsla', datetime.date(2018, 11, 26)) to ('fb', datetime.date(2018, 11, 16))\n",
            "Data columns (total 6 columns):\n",
            " #   Column    Non-Null Count  Dtype  \n",
            "---  ------    --------------  -----  \n",
            " 0   time      190 non-null    object \n",
            " 1   headline  190 non-null    object \n",
            " 2   neg       190 non-null    float64\n",
            " 3   neu       190 non-null    float64\n",
            " 4   pos       190 non-null    float64\n",
            " 5   compound  190 non-null    float64\n",
            "dtypes: float64(4), object(2)\n",
            "memory usage: 9.9+ KB\n",
            "None\n"
          ]
        }
      ]
    },
    {
      "cell_type": "code",
      "source": [
        "TITLE = \"Positive, negative and neutral sentiment for FB on 2019-01-03\"\n",
        "COLORS = [\"red\", \"orange\", \"green\"]\n",
        "\n",
        "# Drop the columns that aren't useful for the plot\n",
        "plot_day = single_day.drop(['headline', 'compound'], axis=1)\n",
        "\n",
        "# Change the column names to 'negative', 'positive', and 'neutral'\n",
        "plot_day.columns = ['negative', 'positive', 'neutral']\n",
        "\n",
        "# Plot a stacked bar chart\n",
        "plot_day.plot(kind='bar', color=COLORS, figsize=(10,5), width=1)"
      ],
      "metadata": {
        "colab": {
          "base_uri": "https://localhost:8080/",
          "height": 517
        },
        "id": "7QSBijwT-W8r",
        "outputId": "52e2b7be-7762-4cbe-89bb-c87500fe7387"
      },
      "execution_count": null,
      "outputs": [
        {
          "output_type": "execute_result",
          "data": {
            "text/plain": [
              "<Axes: xlabel='time'>"
            ]
          },
          "metadata": {},
          "execution_count": 31
        },
        {
          "output_type": "display_data",
          "data": {
            "text/plain": [
              "<Figure size 1000x500 with 1 Axes>"
            ],
            "image/png": "[encoded data removed]"
          },
          "metadata": {}
        }
      ]
    },
    {
      "cell_type": "code",
      "source": [
        "import pandas as pd\n",
        "import nltk\n",
        "from nltk.sentiment.vader import SentimentIntensityAnalyzer\n",
        "from sklearn.model_selection import train_test_split\n",
        "from sklearn.feature_extraction.text import TfidfVectorizer\n",
        "from sklearn.linear_model import LogisticRegression\n",
        "from sklearn.metrics import accuracy_score\n",
        "\n",
        "# Assuming 'df' is your DataFrame containing the dataset\n",
        "\n",
        "# Initialize VADER sentiment analyzer\n",
        "nltk.download('vader_lexicon')\n",
        "sid = SentimentIntensityAnalyzer()\n",
        "df=scored_news\n",
        "# Perform sentiment analysis and assign sentiment labels\n",
        "df['sentiment'] = df['headline'].apply(lambda x: 'pos' if sid.polarity_scores(x)['compound'] > 0 else ('neg' if sid.polarity_scores(x)['compound'] < 0 else 'neu'))\n",
        "\n",
        "# Split data into train and test sets\n",
        "X_train, X_test, y_train, y_test = train_test_split(df['headline'], df['sentiment'], test_size=0.2, random_state=42)\n",
        "\n",
        "# Convert headlines to numerical features using TF-IDF\n",
        "tfidf_vectorizer = TfidfVectorizer(max_features=1000)  # Adjust max_features as needed\n",
        "X_train_tfidf = tfidf_vectorizer.fit_transform(X_train)\n",
        "X_test_tfidf = tfidf_vectorizer.transform(X_test)\n",
        "\n",
        "# Train a Logistic Regression classifier\n",
        "clf = LogisticRegression(max_iter=1000)  # You can use other classifiers as well\n",
        "clf.fit(X_train_tfidf, y_train)\n",
        "\n",
        "# Predict sentiment on the test set\n",
        "y_pred = clf.predict(X_test_tfidf)\n",
        "\n",
        "# Evaluate the model\n",
        "accuracy = accuracy_score(y_test, y_pred)\n",
        "print(\"Accuracy:\", accuracy)\n",
        "\n"
      ],
      "metadata": {
        "colab": {
          "base_uri": "https://localhost:8080/"
        },
        "id": "VXM_hI6m_oTM",
        "outputId": "c0b5f535-f270-432e-f7bc-febfaaf24c7e"
      },
      "execution_count": null,
      "outputs": [
        {
          "output_type": "stream",
          "name": "stderr",
          "text": [
            "[nltk_data] Downloading package vader_lexicon to /root/nltk_data...\n",
            "[nltk_data]   Package vader_lexicon is already up-to-date!\n"
          ]
        },
        {
          "output_type": "stream",
          "name": "stdout",
          "text": [
            "Accuracy: 0.94\n"
          ]
        }
      ]
    },
    {
      "cell_type": "code",
      "source": [
        "# Assuming 'df' is your DataFrame containing the dataset\n",
        "\n",
        "# Filter rows with positive sentiment\n",
        "positive_headlines = df[df['sentiment'] == 'pos']['headline']\n",
        "\n",
        "# Print positive headlines\n",
        "for headline in positive_headlines:\n",
        "    print(headline)\n"
      ],
      "metadata": {
        "colab": {
          "base_uri": "https://localhost:8080/"
        },
        "id": "LQitPLeOEFUq",
        "outputId": "e5d28ce2-2d90-4bb1-fce4-e45b755cc795"
      },
      "execution_count": null,
      "outputs": [
        {
          "output_type": "stream",
          "name": "stdout",
          "text": [
            "Whatever Doesnt Kill Tesla Makes It Stranger\n",
            "Elon Musk admits Tesla was weeks from dying earlier in the year\n",
            "GM and Tesla lobby to raise electric vehicles tax credit ...\n",
            "[$$] Instant Gratification Is a Big Attraction\n",
            "Oil Prices Pound Energy Stocks; Dow Jones Slips As Chips, Airlines Rally\n",
            "Tesla Stocks Surprising Resilience Is a Good Sign for Tesla Bulls\n",
            "Elon Musk says he's interested in developing cargo vans with Daimler\n",
            "Nasdaq Snaps Back, As This Retail Stock Soars On Strong Earnings\n",
            "First look: Inside Nio's growing San Jose HQ as it aims to win the car-tech talent war\n",
            "Increased Earnings Estimates Seen for Tesla (TSLA): Can It Move Higher?\n",
            "7 Winning Stocks to Buy in November for 2019\n",
            "Neil deGrasse Tyson: Elon Musk is more important than Jeff Bezos, Mark Zuckerberg and Steve Jobs\n",
            "The Zacks Analyst Blog Highlights: Peabody Energy, First Solar, General Motors, Ford Motor and Tesla\n",
            "[$$] Tesla batteries prove best value in class  UBS\n",
            "Tesla is turning to partners to help with a growing used-car business\n",
            "Musk hints at Tesla interest in Daimler van\n",
            "Musk hints at Tesla interest in Daimler van\n",
            "Tesla, PayPal Lead 5 Top Stocks Near Buy Points In This Classic Bullish Pattern\n",
            "You Can Still Get a Tesla Model 3 in Time to Qualify for $7,500 Tax Credit\n",
            "David Einhorn's Top 4 Sells in 3rd Quarter\n",
            "Tesla's Breakout May Boost Stock Near Its Record High\n",
            "Forget Tesla, Inc.: Albemarle Corporation Is a Better Electric-Vehicle Stock\n",
            "Tesla Is Prepared for a Big Fourth Quarter\n",
            "Whatever Doesnt Kill Tesla Makes It Stranger\n",
            "Elon Musk admits Tesla was weeks from dying earlier in the year\n",
            "GM and Tesla lobby to raise electric vehicles tax credit ...\n",
            "[$$] Instant Gratification Is a Big Attraction\n",
            "Oil Prices Pound Energy Stocks; Dow Jones Slips As Chips, Airlines Rally\n",
            "Tesla Stocks Surprising Resilience Is a Good Sign for Tesla Bulls\n",
            "Elon Musk says he's interested in developing cargo vans with Daimler\n",
            "Nasdaq Snaps Back, As This Retail Stock Soars On Strong Earnings\n",
            "First look: Inside Nio's growing San Jose HQ as it aims to win the car-tech talent war\n",
            "Increased Earnings Estimates Seen for Tesla (TSLA): Can It Move Higher?\n",
            "7 Winning Stocks to Buy in November for 2019\n",
            "Neil deGrasse Tyson: Elon Musk is more important than Jeff Bezos, Mark Zuckerberg and Steve Jobs\n",
            "The Zacks Analyst Blog Highlights: Peabody Energy, First Solar, General Motors, Ford Motor and Tesla\n",
            "[$$] Tesla batteries prove best value in class  UBS\n",
            "Tesla is turning to partners to help with a growing used-car business\n",
            "Musk hints at Tesla interest in Daimler van\n",
            "Musk hints at Tesla interest in Daimler van\n",
            "Tesla, PayPal Lead 5 Top Stocks Near Buy Points In This Classic Bullish Pattern\n",
            "You Can Still Get a Tesla Model 3 in Time to Qualify for $7,500 Tax Credit\n",
            "David Einhorn's Top 4 Sells in 3rd Quarter\n",
            "Tesla's Breakout May Boost Stock Near Its Record High\n",
            "Forget Tesla, Inc.: Albemarle Corporation Is a Better Electric-Vehicle Stock\n",
            "Tesla Is Prepared for a Big Fourth Quarter\n",
            "Whatever Doesnt Kill Tesla Makes It Stranger\n",
            "Elon Musk admits Tesla was weeks from dying earlier in the year\n",
            "GM and Tesla lobby to raise electric vehicles tax credit ...\n",
            "[$$] Instant Gratification Is a Big Attraction\n",
            "Oil Prices Pound Energy Stocks; Dow Jones Slips As Chips, Airlines Rally\n",
            "Tesla Stocks Surprising Resilience Is a Good Sign for Tesla Bulls\n",
            "Elon Musk says he's interested in developing cargo vans with Daimler\n",
            "Nasdaq Snaps Back, As This Retail Stock Soars On Strong Earnings\n",
            "First look: Inside Nio's growing San Jose HQ as it aims to win the car-tech talent war\n",
            "Increased Earnings Estimates Seen for Tesla (TSLA): Can It Move Higher?\n",
            "7 Winning Stocks to Buy in November for 2019\n",
            "Neil deGrasse Tyson: Elon Musk is more important than Jeff Bezos, Mark Zuckerberg and Steve Jobs\n",
            "The Zacks Analyst Blog Highlights: Peabody Energy, First Solar, General Motors, Ford Motor and Tesla\n",
            "[$$] Tesla batteries prove best value in class  UBS\n",
            "Tesla is turning to partners to help with a growing used-car business\n",
            "Musk hints at Tesla interest in Daimler van\n",
            "Musk hints at Tesla interest in Daimler van\n",
            "Tesla, PayPal Lead 5 Top Stocks Near Buy Points In This Classic Bullish Pattern\n",
            "You Can Still Get a Tesla Model 3 in Time to Qualify for $7,500 Tax Credit\n",
            "David Einhorn's Top 4 Sells in 3rd Quarter\n",
            "Tesla's Breakout May Boost Stock Near Its Record High\n",
            "Forget Tesla, Inc.: Albemarle Corporation Is a Better Electric-Vehicle Stock\n",
            "Tesla Is Prepared for a Big Fourth Quarter\n",
            "Whatever Doesnt Kill Tesla Makes It Stranger\n",
            "Elon Musk admits Tesla was weeks from dying earlier in the year\n",
            "GM and Tesla lobby to raise electric vehicles tax credit ...\n",
            "[$$] Instant Gratification Is a Big Attraction\n",
            "Oil Prices Pound Energy Stocks; Dow Jones Slips As Chips, Airlines Rally\n",
            "Tesla Stocks Surprising Resilience Is a Good Sign for Tesla Bulls\n",
            "Elon Musk says he's interested in developing cargo vans with Daimler\n",
            "Nasdaq Snaps Back, As This Retail Stock Soars On Strong Earnings\n",
            "First look: Inside Nio's growing San Jose HQ as it aims to win the car-tech talent war\n",
            "Increased Earnings Estimates Seen for Tesla (TSLA): Can It Move Higher?\n",
            "7 Winning Stocks to Buy in November for 2019\n",
            "Neil deGrasse Tyson: Elon Musk is more important than Jeff Bezos, Mark Zuckerberg and Steve Jobs\n",
            "The Zacks Analyst Blog Highlights: Peabody Energy, First Solar, General Motors, Ford Motor and Tesla\n",
            "[$$] Tesla batteries prove best value in class  UBS\n",
            "Tesla is turning to partners to help with a growing used-car business\n",
            "Musk hints at Tesla interest in Daimler van\n",
            "Musk hints at Tesla interest in Daimler van\n",
            "Tesla, PayPal Lead 5 Top Stocks Near Buy Points In This Classic Bullish Pattern\n",
            "You Can Still Get a Tesla Model 3 in Time to Qualify for $7,500 Tax Credit\n",
            "David Einhorn's Top 4 Sells in 3rd Quarter\n",
            "Tesla's Breakout May Boost Stock Near Its Record High\n",
            "Forget Tesla, Inc.: Albemarle Corporation Is a Better Electric-Vehicle Stock\n",
            "Tesla Is Prepared for a Big Fourth Quarter\n",
            "Whatever Doesnt Kill Tesla Makes It Stranger\n",
            "Elon Musk admits Tesla was weeks from dying earlier in the year\n",
            "GM and Tesla lobby to raise electric vehicles tax credit ...\n",
            "[$$] Instant Gratification Is a Big Attraction\n",
            "Oil Prices Pound Energy Stocks; Dow Jones Slips As Chips, Airlines Rally\n",
            "Tesla Stocks Surprising Resilience Is a Good Sign for Tesla Bulls\n",
            "Elon Musk says he's interested in developing cargo vans with Daimler\n",
            "Nasdaq Snaps Back, As This Retail Stock Soars On Strong Earnings\n",
            "First look: Inside Nio's growing San Jose HQ as it aims to win the car-tech talent war\n",
            "Increased Earnings Estimates Seen for Tesla (TSLA): Can It Move Higher?\n",
            "7 Winning Stocks to Buy in November for 2019\n",
            "Neil deGrasse Tyson: Elon Musk is more important than Jeff Bezos, Mark Zuckerberg and Steve Jobs\n",
            "The Zacks Analyst Blog Highlights: Peabody Energy, First Solar, General Motors, Ford Motor and Tesla\n",
            "[$$] Tesla batteries prove best value in class  UBS\n",
            "Tesla is turning to partners to help with a growing used-car business\n",
            "Musk hints at Tesla interest in Daimler van\n",
            "Musk hints at Tesla interest in Daimler van\n",
            "Tesla, PayPal Lead 5 Top Stocks Near Buy Points In This Classic Bullish Pattern\n",
            "You Can Still Get a Tesla Model 3 in Time to Qualify for $7,500 Tax Credit\n",
            "David Einhorn's Top 4 Sells in 3rd Quarter\n",
            "Tesla's Breakout May Boost Stock Near Its Record High\n",
            "Forget Tesla, Inc.: Albemarle Corporation Is a Better Electric-Vehicle Stock\n",
            "Tesla Is Prepared for a Big Fourth Quarter\n"
          ]
        }
      ]
    },
    {
      "cell_type": "code",
      "source": [
        "# Assuming 'df' is your DataFrame containing the dataset\n",
        "\n",
        "# Save DataFrame as CSV file\n",
        "df.to_csv('dataset.csv', index=False)\n"
      ],
      "metadata": {
        "id": "NrDD_tVbF4gO"
      },
      "execution_count": null,
      "outputs": []
    },
    {
      "cell_type": "code",
      "source": [],
      "metadata": {
        "id": "8w-2iMz1F5HS"
      },
      "execution_count": null,
      "outputs": []
    }
  ]
}