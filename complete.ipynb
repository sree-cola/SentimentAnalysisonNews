{
  "nbformat": 4,
  "nbformat_minor": 0,
  "metadata": {
    "colab": {
      "provenance": []
    },
    "kernelspec": {
      "name": "python3",
      "display_name": "Python 3"
    },
    "language_info": {
      "name": "python"
    }
  },
  "cells": [
    {
      "cell_type": "code",
      "execution_count": null,
      "metadata": {
        "colab": {
          "base_uri": "https://localhost:8080/"
        },
        "id": "RGKKOXl9pSJy",
        "outputId": "999f0bc8-182e-41b6-ced1-378d1e6251c8"
      },
      "outputs": [
        {
          "output_type": "stream",
          "name": "stdout",
          "text": [
            "ok!\n"
          ]
        }
      ],
      "source": [
        "import warnings\n",
        "warnings.filterwarnings(\"ignore\", category=FutureWarning)\n",
        "from bs4 import BeautifulSoup\n",
        "import pandas as pd\n",
        "import os\n",
        "\n",
        "html_tables = {}\n",
        "\n",
        "# For every table in the datasets folder...\n",
        "for table_name in os.listdir('/content/input'):\n",
        "    #this is the path to the file. Don't touch!\n",
        "    table_path = f'/content/input/{table_name}'\n",
        "\n",
        "    # Open as a python file in read-only mode\n",
        "    table_file = open(table_path, 'r')\n",
        "\n",
        "    # Read the contents of the file into 'html'\n",
        "    html = BeautifulSoup(open(table_path, 'r'))\n",
        "\n",
        "    # Find 'news-table' in the Soup and load it into 'html_table'\n",
        "    html_table = html.find(id='news-table')\n",
        "\n",
        "    # Add the table to our dictionary\n",
        "    html_tables[table_name] = html_table\n",
        "\n",
        "print('ok!')"
      ]
    },
    {
      "cell_type": "code",
      "source": [
        "fb = html_tables['fb_05ene.html']\n",
        "# Get all the table rows tagged in HTML with <tr> into 'tesla_tr'\n",
        "fb_tr = fb.findAll('tr')\n",
        "\n",
        "# For each row...\n",
        "\n",
        "for i, table_row in enumerate(fb_tr):\n",
        "    # Read the text of the element 'a' into 'link_text'\n",
        "    link_text = table_row.a.get_text()\n",
        "    # Read the text of the element 'td' into 'data_text'\n",
        "    data_text = table_row.td.get_text()\n",
        "    # Print the count\n",
        "    print(f'{i}:')\n",
        "    # Print the contents of 'link_text' and 'data_text'\n",
        "    print(link_text)\n",
        "    print(data_text)\n",
        "    # The following exits the loop after three rows to prevent spamming the notebook, do not touch\n",
        "    if i == 3:\n",
        "        break"
      ],
      "metadata": {
        "colab": {
          "base_uri": "https://localhost:8080/"
        },
        "id": "0I7-8jYqpls-",
        "outputId": "9b9c2eb0-13c5-41a1-d45f-ace8ffd4a7a3"
      },
      "execution_count": null,
      "outputs": [
        {
          "output_type": "stream",
          "name": "stdout",
          "text": [
            "0:\n",
            "Facebook, Apple, Netflix, Amazon and Alphabet Power Friday Gains\n",
            "Jan-04-19 06:22PM  \n",
            "1:\n",
            "Earnings Reports for the Week of Jan. 7-11 (BBBY, KBH)\n",
            "05:15PM  \n",
            "2:\n",
            "COLUMN-Commentary: 2019 will be the year of more state control\n",
            "04:55PM  \n",
            "3:\n",
            "3 Tech Trends to Watch in 2019\n",
            "04:53PM  \n"
          ]
        }
      ]
    },
    {
      "cell_type": "code",
      "source": [
        "parsed_news = []\n",
        "# Iterate through the news\n",
        "for file_name, news_table in html_tables.items():\n",
        "    # Iterate through all tr tags in 'news_table'\n",
        "    for x in news_table.findAll('tr'):\n",
        "\n",
        "        # Read the text from the tr tag into text\n",
        "        text = x.get_text()\n",
        "\n",
        "        # Split the text in the td tag into a list\n",
        "        date_scrape = x.td.text.split()\n",
        "        headline = x.a.text\n",
        "\n",
        "        # If the length of 'date_scrape' is 1, load 'time' as the only element\n",
        "        # If not, load 'date' as the 1st element and 'time' as the second\n",
        "\n",
        "        if len(date_scrape) == 1:\n",
        "            time = date_scrape[0]\n",
        "\n",
        "        else:\n",
        "            date = date_scrape[0]\n",
        "            time = date_scrape[1]\n",
        "\n",
        "        # Extract the ticker from the file name, get the string up to the 1st '_'\n",
        "        ticker = file_name.split('_')[0]\n",
        "\n",
        "        # Append ticker, date, time and headline as a list to the 'parsed_news' list\n",
        "        parsed_news.append([ticker, date, time, headline])\n",
        "\n",
        "print(parsed_news[:10])"
      ],
      "metadata": {
        "colab": {
          "base_uri": "https://localhost:8080/"
        },
        "id": "HoWfc1HipvSj",
        "outputId": "cdfe9ed3-9639-408a-bc7d-efbf24f21b24"
      },
      "execution_count": null,
      "outputs": [
        {
          "output_type": "stream",
          "name": "stdout",
          "text": [
            "[['tsla', 'Nov-26-18', '01:25PM', 'Tesla was weeks from dying earlier this year, Elon Musk says'], ['tsla', 'Nov-26-18', '01:08PM', \"Elon Musk Says Tesla Was 'Close to Death' During Model 3 Ramp-Up\"], ['tsla', 'Nov-26-18', '01:07PM', 'Tesla Almost Died Earlier This Year, Says Elon Musk'], ['tsla', 'Nov-26-18', '01:00PM', 'Elon Musk Said Tesla Almost Died  and the Stock Market Shrugged'], ['tsla', 'Nov-26-18', '12:36PM', 'Elon Musk Admits Tesla Was Near Death This Year'], ['tsla', 'Nov-26-18', '11:54AM', 'Whatever Doesnt Kill Tesla Makes It Stranger'], ['tsla', 'Nov-26-18', '10:21AM', 'Elon Musk: Tesla was weeks away from failure'], ['tsla', 'Nov-26-18', '09:30AM', 'Company News For Nov 26, 2018'], ['tsla', 'Nov-26-18', '08:30AM', 'Musk Admits Tesla Was Close To Collapsing Earlier This Year Amid Model 3 Ramp'], ['tsla', 'Nov-26-18', '08:20AM', 'What Tesla did for luxury cars, Rivian wants to do for pickups']]\n"
          ]
        }
      ]
    },
    {
      "cell_type": "code",
      "source": [
        "import nltk\n",
        "nltk.download('vader_lexicon')"
      ],
      "metadata": {
        "colab": {
          "base_uri": "https://localhost:8080/"
        },
        "id": "RjFfAiC6p5pH",
        "outputId": "aa2a2306-e65d-4fee-e91b-4a869712e3d6"
      },
      "execution_count": null,
      "outputs": [
        {
          "output_type": "stream",
          "name": "stderr",
          "text": [
            "[nltk_data] Downloading package vader_lexicon to /root/nltk_data...\n"
          ]
        },
        {
          "output_type": "execute_result",
          "data": {
            "text/plain": [
              "True"
            ]
          },
          "metadata": {},
          "execution_count": 5
        }
      ]
    },
    {
      "cell_type": "code",
      "source": [
        "from nltk.sentiment.vader import SentimentIntensityAnalyzer\n",
        "\n",
        "# New words and values\n",
        "new_words = {\n",
        "    'crushes': 10,\n",
        "    'beats': 5,\n",
        "    'misses': -5,\n",
        "    'trouble': -10,\n",
        "    'falls': -100,\n",
        "}\n",
        "# Instantiate the sentiment intensity analyzer with the existing lexicon\n",
        "vader = SentimentIntensityAnalyzer()\n",
        "# Update the lexicon\n",
        "vader.lexicon.update(new_words)\n",
        "\n",
        "print('ok!')"
      ],
      "metadata": {
        "colab": {
          "base_uri": "https://localhost:8080/"
        },
        "id": "4w3dqnOip8Ny",
        "outputId": "15fae747-769f-4a3c-b7a1-57c3c3355456"
      },
      "execution_count": null,
      "outputs": [
        {
          "output_type": "stream",
          "name": "stdout",
          "text": [
            "ok!\n"
          ]
        }
      ]
    },
    {
      "cell_type": "code",
      "source": [
        "columns = ['ticker', 'date', 'time', 'headline']\n",
        "# Convert the list of lists into a DataFrame\n",
        "scored_news = pd.DataFrame(parsed_news, columns=columns)\n",
        "\n",
        "# Iterate through the headlines and get the polarity scores\n",
        "scores = scored_news['headline'].apply(vader.polarity_scores)\n",
        "\n",
        "# Convert the list of dicts into a DataFrame\n",
        "scores_df = pd.DataFrame.from_records(scores)\n",
        "\n",
        "# Join the DataFrames\n",
        "scored_news = scored_news.join(scores_df)\n",
        "\n",
        "# Convert the date column from string to datetime\n",
        "scored_news['date'] = pd.to_datetime(scored_news.date).dt.date\n",
        "print(scored_news.head())"
      ],
      "metadata": {
        "colab": {
          "base_uri": "https://localhost:8080/"
        },
        "id": "6HuBwX5ep_uN",
        "outputId": "181eeb4c-e3d6-4084-9082-a6a65beee1ba"
      },
      "execution_count": null,
      "outputs": [
        {
          "output_type": "stream",
          "name": "stdout",
          "text": [
            "  ticker        date     time  \\\n",
            "0   tsla  2018-11-26  01:25PM   \n",
            "1   tsla  2018-11-26  01:08PM   \n",
            "2   tsla  2018-11-26  01:07PM   \n",
            "3   tsla  2018-11-26  01:00PM   \n",
            "4   tsla  2018-11-26  12:36PM   \n",
            "\n",
            "                                            headline    neg    neu    pos  \\\n",
            "0  Tesla was weeks from dying earlier this year, ...  0.000  1.000  0.000   \n",
            "1  Elon Musk Says Tesla Was 'Close to Death' Duri...  0.281  0.719  0.000   \n",
            "2  Tesla Almost Died Earlier This Year, Says Elon...  0.292  0.708  0.000   \n",
            "3  Elon Musk Said Tesla Almost Died  and the Stoc...  0.249  0.751  0.000   \n",
            "4    Elon Musk Admits Tesla Was Near Death This Year  0.298  0.534  0.168   \n",
            "\n",
            "   compound  \n",
            "0    0.0000  \n",
            "1   -0.5994  \n",
            "2   -0.5118  \n",
            "3   -0.5118  \n",
            "4   -0.4019  \n"
          ]
        }
      ]
    },
    {
      "cell_type": "code",
      "source": [
        "import matplotlib.pyplot as plt\n",
        "import seaborn as sns\n",
        "\n",
        "%matplotlib inline\n",
        "\n",
        "# Group by date and ticker columns from scored_news and calculate the mean\n",
        "mean_c = scored_news.groupby(['date', 'ticker']).mean()\n",
        "\n",
        "# Unstack the column ticker\n",
        "mean_c = mean_c.unstack('ticker')\n",
        "\n",
        "# Get the cross-section of compound in the 'columns' axis\n",
        "mean_c = mean_c.xs('compound', axis='columns')\n",
        "# Plot a bar chart with pandas\n",
        "\n",
        "mean_c.plot(kind='bar', figsize=(10,5), width=1)"
      ],
      "metadata": {
        "colab": {
          "base_uri": "https://localhost:8080/",
          "height": 528
        },
        "id": "CFo1eEOuqCgP",
        "outputId": "b53a0144-c0d1-40af-c4b5-b2232552694b"
      },
      "execution_count": null,
      "outputs": [
        {
          "output_type": "execute_result",
          "data": {
            "text/plain": [
              "<Axes: xlabel='date'>"
            ]
          },
          "metadata": {},
          "execution_count": 19
        },
        {
          "output_type": "display_data",
          "data": {
            "text/plain": [
              "<Figure size 1000x500 with 1 Axes>"
            ],
            "image/png": "[encoded data removed]"
          },
          "metadata": {}
        }
      ]
    },
    {
      "cell_type": "code",
      "source": [
        "num_news_before = scored_news['headline'].count()\n",
        "\n",
        "# Drop duplicates based on ticker and headline\n",
        "scored_news_clean = scored_news.drop_duplicates(subset=['ticker','headline'])\n",
        "\n",
        "# Count number of headlines after dropping duplicates\n",
        "num_news_after = scored_news_clean['headline'].count()\n",
        "\n",
        "# Print before and after numbers to get an idea of how we did\n",
        "print(f\"Before we had {num_news_before} headlines, now we have {num_news_after}\")"
      ],
      "metadata": {
        "colab": {
          "base_uri": "https://localhost:8080/"
        },
        "id": "d26fN2kBqGWZ",
        "outputId": "906c82e4-529b-4a24-8314-8abb844a4b3e"
      },
      "execution_count": null,
      "outputs": [
        {
          "output_type": "stream",
          "name": "stdout",
          "text": [
            "Before we had 500 headlines, now we have 476\n"
          ]
        }
      ]
    },
    {
      "cell_type": "code",
      "source": [
        "import pandas as pd\n",
        "\n",
        "# Assuming your DataFrame is named scored_news_clean\n",
        "# Convert 'date' column to datetime\n",
        "scored_news['date'] = pd.to_datetime(scored_news['date'])\n",
        "\n",
        "# Set the index to ['ticker', 'date']\n",
        "single_day = scored_news.set_index(['ticker', 'date'])\n",
        "\n",
        "# Cross-section the 'fb' row\n",
        "single_day = single_day.xs('fb', level='ticker')\n",
        "\n",
        "# Select the 3rd of January of 2019\n",
        "single_day = single_day.loc[('2019-01-03')]\n",
        "\n",
        "# Convert the datetime string to just the time\n",
        "single_day['time'] = pd.to_datetime(single_day['time']).dt.time\n",
        "\n",
        "# Set the index to 'time'\n",
        "single_day = single_day.set_index('time')\n",
        "\n",
        "# Sort the DataFrame by the index\n",
        "single_day = single_day.sort_index()\n",
        "\n",
        "print(single_day.info())\n",
        "\n",
        "\n",
        "\n"
      ],
      "metadata": {
        "colab": {
          "base_uri": "https://localhost:8080/"
        },
        "id": "RZNdII5ss6-g",
        "outputId": "0eda39cb-d9f7-46f9-eef1-f4d01d39974f"
      },
      "execution_count": null,
      "outputs": [
        {
          "output_type": "stream",
          "name": "stdout",
          "text": [
            "<class 'pandas.core.frame.DataFrame'>\n",
            "Index: 20 entries, 06:00:00 to 22:59:00\n",
            "Data columns (total 5 columns):\n",
            " #   Column    Non-Null Count  Dtype  \n",
            "---  ------    --------------  -----  \n",
            " 0   headline  20 non-null     object \n",
            " 1   neg       20 non-null     float64\n",
            " 2   neu       20 non-null     float64\n",
            " 3   pos       20 non-null     float64\n",
            " 4   compound  20 non-null     float64\n",
            "dtypes: float64(4), object(1)\n",
            "memory usage: 960.0+ bytes\n",
            "None\n"
          ]
        }
      ]
    },
    {
      "cell_type": "code",
      "source": [
        "TITLE = \"Positive, negative and neutral sentiment for FB on 2019-01-03\"\n",
        "COLORS = [\"red\", \"orange\", \"green\"]\n",
        "\n",
        "# Drop the columns that aren't useful for the plot\n",
        "plot_day = single_day.drop(['headline', 'compound'], axis=1)\n",
        "\n",
        "# Change the column names to 'negative', 'positive', and 'neutral'\n",
        "plot_day.columns = ['negative', 'positive', 'neutral']\n",
        "\n",
        "# Plot a stacked bar chart\n",
        "plot_day.plot(kind='bar', color=COLORS, figsize=(10,5), width=1)"
      ],
      "metadata": {
        "colab": {
          "base_uri": "https://localhost:8080/",
          "height": 518
        },
        "id": "LDlxDQp4vhlB",
        "outputId": "833f0e98-5f71-42e6-951c-61626ce75572"
      },
      "execution_count": null,
      "outputs": [
        {
          "output_type": "execute_result",
          "data": {
            "text/plain": [
              "<Axes: xlabel='time'>"
            ]
          },
          "metadata": {},
          "execution_count": 38
        },
        {
          "output_type": "display_data",
          "data": {
            "text/plain": [
              "<Figure size 1000x500 with 1 Axes>"
            ],
            "image/png": "[encoded data removed]"
          },
          "metadata": {}
        }
      ]
    },
    {
      "cell_type": "code",
      "source": [
        "import pandas as pd\n",
        "import nltk\n",
        "from nltk.sentiment.vader import SentimentIntensityAnalyzer\n",
        "from sklearn.model_selection import train_test_split\n",
        "from sklearn.feature_extraction.text import TfidfVectorizer\n",
        "from sklearn.linear_model import LogisticRegression\n",
        "from sklearn.metrics import accuracy_score\n",
        "\n",
        "# Assuming 'df' is your DataFrame containing the dataset\n",
        "\n",
        "# Initialize VADER sentiment analyzer\n",
        "nltk.download('vader_lexicon')\n",
        "sid = SentimentIntensityAnalyzer()\n",
        "df=scored_news\n",
        "# Perform sentiment analysis and assign sentiment labels\n",
        "df['sentiment'] = df['headline'].apply(lambda x: 'pos' if sid.polarity_scores(x)['compound'] > 0 else ('neg' if sid.polarity_scores(x)['compound'] < 0 else 'neu'))\n",
        "\n",
        "# Split data into train and test sets\n",
        "X_train, X_test, y_train, y_test = train_test_split(df['headline'], df['sentiment'], test_size=0.2, random_state=42)\n",
        "\n",
        "# Convert headlines to numerical features using TF-IDF\n",
        "tfidf_vectorizer = TfidfVectorizer(max_features=1000)  # Adjust max_features as needed\n",
        "X_train_tfidf = tfidf_vectorizer.fit_transform(X_train)\n",
        "X_test_tfidf = tfidf_vectorizer.transform(X_test)\n",
        "\n",
        "# Train a Logistic Regression classifier\n",
        "clf = LogisticRegression(max_iter=1000)  # You can use other classifiers as well\n",
        "clf.fit(X_train_tfidf, y_train)\n",
        "\n",
        "# Predict sentiment on the test set\n",
        "y_pred = clf.predict(X_test_tfidf)\n",
        "\n",
        "# Evaluate the model\n",
        "accuracy = accuracy_score(y_test, y_pred)\n",
        "print(\"Accuracy:\", accuracy)"
      ],
      "metadata": {
        "colab": {
          "base_uri": "https://localhost:8080/"
        },
        "id": "671lpO4sqOPw",
        "outputId": "ec44478c-7fdc-4714-d929-076eb2dbad96"
      },
      "execution_count": null,
      "outputs": [
        {
          "output_type": "stream",
          "name": "stderr",
          "text": [
            "[nltk_data] Downloading package vader_lexicon to /root/nltk_data...\n",
            "[nltk_data]   Package vader_lexicon is already up-to-date!\n"
          ]
        },
        {
          "output_type": "stream",
          "name": "stdout",
          "text": [
            "Accuracy: 0.65\n"
          ]
        }
      ]
    },
    {
      "cell_type": "code",
      "source": [
        "# Save DataFrame as CSV file\n",
        "df.to_csv('dataset1.csv', index=False)\n"
      ],
      "metadata": {
        "id": "4vzYt2ApqVd3"
      },
      "execution_count": null,
      "outputs": []
    },
    {
      "cell_type": "code",
      "source": [],
      "metadata": {
        "id": "SXkwpOjAqYoR"
      },
      "execution_count": null,
      "outputs": []
    }
  ]
}